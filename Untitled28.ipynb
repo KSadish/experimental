{
  "nbformat": 4,
  "nbformat_minor": 0,
  "metadata": {
    "colab": {
      "provenance": [],
      "authorship_tag": "ABX9TyN79w+GDzSMSIN1aLruQ5OV",
      "include_colab_link": true
    },
    "kernelspec": {
      "name": "python3",
      "display_name": "Python 3"
    },
    "language_info": {
      "name": "python"
    }
  },
  "cells": [
    {
      "cell_type": "markdown",
      "metadata": {
        "id": "view-in-github",
        "colab_type": "text"
      },
      "source": [
        "<a href=\"https://colab.research.google.com/github/KSadish/experimental/blob/main/Untitled28.ipynb\" target=\"_parent\"><img src=\"https://colab.research.google.com/assets/colab-badge.svg\" alt=\"Open In Colab\"/></a>"
      ]
    },
    {
      "cell_type": "markdown",
      "source": [
        "***# Symmetric Encryption Algorithms***\n",
        "\n",
        "1.  Vernam-Vigenère Cipher\n",
        "2. Caesor cipher\n",
        "\n"
      ],
      "metadata": {
        "id": "TDJlE6DtK6Bk"
      }
    },
    {
      "cell_type": "markdown",
      "source": [
        "**Explanation and Methodology:**\n",
        "\n",
        "The Vernam-Vigenère Cipher is a symmetric encryption technique that encrypts plaintext using a keyword, or key. It is a polyalphabetic cipher, which encrypts the plaintext using several substitution alphabets, often known as Caesar ciphers.\n",
        "1. First, both the message and the keyword are turned into lowercase letters.\n",
        "2. Then, the keyword is repeated over and over again until it matches the length of the message.\n",
        "3. For each letter in the message, we find its corresponding letter in the keyword. This tells us how much we should shift the letter by in the alphabet.\n",
        "\n",
        "4. We add this shift value to the position of the letter in the alphabet to get the position of the encoded letter.\n",
        "\n",
        "5. To decode the message, we reverse the process: we find the position of the encoded letter in the alphabet and subtract the position of the corresponding letter in the keyword.\n",
        "\n",
        "The provided code contains two functions: one for encoding a message (cipher) and one for decoding it (decipher). They use this method to transform messages back and forth.\n"
      ],
      "metadata": {
        "id": "MefYhmfrFaqo"
      }
    },
    {
      "cell_type": "code",
      "source": [
        "def cipher(plaintext, key):\n",
        "    alphabets = 'abcdefghijklmnopqrstuvwxyz'\n",
        "    encryption = \"\"\n",
        "    key_index = 0\n",
        "    for i in plaintext:\n",
        "        index = (alphabets.index(i) + alphabets.index(key[key_index])) % 26\n",
        "        sub_cipher = alphabets[index]\n",
        "        encryption += sub_cipher\n",
        "        key_index = (key_index + 1) % len(key)\n",
        "    print(\"Cipher text is: \", encryption)\n",
        "\n",
        "\n",
        "def decipher(ciphertext):\n",
        "    alphabets = 'abcdefghijklmnopqrstuvwxyz'\n",
        "    decryption = \"\"\n",
        "    key = input(\"Enter the key: \")\n",
        "    key_index = 0\n",
        "    for i in ciphertext:\n",
        "        index = (alphabets.index(i) - alphabets.index(key[key_index])) % 26\n",
        "        sub_plain = alphabets[index]\n",
        "        decryption += sub_plain\n",
        "        key_index = (key_index + 1) % len(key)\n",
        "    print(\"Decipher text is: \", decryption)\n",
        "\n",
        "\n",
        "a = input(\"Enter the plain text: \")\n",
        "b = input(\"Enter the key: \")\n",
        "\n",
        "cipher(a, b)\n",
        "c = input(\"Enter the cipher text: \")\n",
        "decipher(c)\n"
      ],
      "metadata": {
        "colab": {
          "base_uri": "https://localhost:8080/"
        },
        "id": "G8uBl19k8m69",
        "outputId": "40814c2e-3232-4137-f42e-6ee63859ec29"
      },
      "execution_count": 4,
      "outputs": [
        {
          "output_type": "stream",
          "name": "stdout",
          "text": [
            "Enter the plain text: github\n",
            "Enter the key: hub\n",
            "Cipher text is:  ncuooc\n",
            "Enter the cipher text: ncuooc\n",
            "Enter the key: hub\n",
            "Decipher text is:  github\n"
          ]
        }
      ]
    },
    {
      "cell_type": "markdown",
      "source": [
        "**2. Caesor cipher**\n"
      ],
      "metadata": {
        "id": "POsU2YFqK3lV"
      }
    },
    {
      "cell_type": "markdown",
      "source": [
        "The Caesar Cipher is an ancient encryption method that's quite simple. It uses a shift value, acting as a key, to scramble and unscramble messages.\n",
        "\n",
        "**Explanation and Methodology**\n",
        "\n",
        "1. First, it establishes the alphabet as a string of lowercase letters.\n",
        "\n",
        "2. Then, it takes the plaintext as input along with the shift value provided by the user.\n",
        "\n",
        "3. For each character in the plaintext, it follows these steps:\n",
        "    a. It finds the character's position in the alphabet.\n",
        "    b. Adds the shift value to this position, making sure to wrap around the alphabet by using the modulus of 26.\n",
        "    c. Retrieves the new character based on this recalculated position.\n",
        "    d. Adds this substituted character to the ciphertext.\n",
        "\n",
        "4. The resulting ciphertext is then printed out.\n",
        "\n",
        "To decode the message, the same steps are followed, but in reverse: the shift value is subtracted from the position of the ciphertext character to find the original plaintext character.\n",
        "\n",
        "The provided code has three main parts:\n",
        "\n",
        "1. **The Cipher Function:** Takes plaintext and a shift value, then produces ciphertext by applying the encryption process.\n",
        "\n",
        "2. **The Decipher Function:** Takes ciphertext and a shift value, then decodes it to plaintext using the reverse of the encryption process.\n",
        "\n",
        "3. **The Main Execution Section:** Guides the user through encrypting and decrypting messages using the cipher and decipher functions."
      ],
      "metadata": {
        "id": "CoQhbeP0FYxE"
      }
    },
    {
      "cell_type": "markdown",
      "source": [
        "code:"
      ],
      "metadata": {
        "id": "xTTRM2rkNa6a"
      }
    },
    {
      "cell_type": "code",
      "source": [
        "alphabets = 'abcdefghijklmnopqrstuvwxyz'\n",
        "def cipher(plaintext, shift):\n",
        "    encryption = \"\"\n",
        "    for i in plaintext:\n",
        "        index = (alphabets.index(i) + shift) % 26\n",
        "        sub_cipher = alphabets[index]\n",
        "        encryption += sub_cipher\n",
        "    print(\"Cipher text is: \", encryption)\n",
        "def decipher (ciphertext, shift):\n",
        "    decryption = \"\"\n",
        "    for i in ciphertext:\n",
        "        index = (alphabets.index(i) - shift) % 26\n",
        "        sub_decipher = alphabets[index]\n",
        "        decryption += sub_decipher\n",
        "    print(\"Decrypted text is: \", decryption)\n",
        "\n",
        "plaintext= input(\"Enter the plain text: \")\n",
        "shift= int(input(\"Enter the shift value: \"))\n",
        "cipher(plaintext,shift)\n",
        "\n",
        "ciphertext=input(\"Enter the cipher text: \")\n",
        "decipher(ciphertext, shift)\n"
      ],
      "metadata": {
        "colab": {
          "base_uri": "https://localhost:8080/"
        },
        "id": "gxHeSVaxOBND",
        "outputId": "f333ce41-4aba-417c-ed26-5587ee6c852a"
      },
      "execution_count": 6,
      "outputs": [
        {
          "output_type": "stream",
          "name": "stdout",
          "text": [
            "Enter the plain text: shazzam\n",
            "Enter the shift value: 3\n",
            "Cipher text is:  vkdccdp\n",
            "Enter the cipher text: vkdccdp\n",
            "Decrypted text is:  shazzam\n"
          ]
        }
      ]
    },
    {
      "cell_type": "markdown",
      "source": [
        "**#Asymmetric Encryption Algorithms**"
      ],
      "metadata": {
        "id": "xdYPCmdqNjhe"
      }
    },
    {
      "cell_type": "markdown",
      "source": [
        " 1. **RSA** **(Rivest–Shamir–Adleman):**"
      ],
      "metadata": {
        "id": "pD8_4gyp7Ui4"
      }
    },
    {
      "cell_type": "markdown",
      "source": [
        "RSA is a widely used encryption method based on two keys: a public key for encryption and a private key for decryption.\n",
        "\n",
        "\n",
        "\n",
        "1. Choose two prime numbers, p and q, and multiply them to get the modulus, n. Compute φ(n) using Euler's totient function: (p-1) × (q-1).\n",
        "\n",
        "2. Select an integer, e, which must be coprime to φ(n) and between 1 and φ(n). This becomes the public exponent.\n",
        "\n",
        "3. Compute the private exponent, d, such that (d × e) % φ(n) = 1.\n",
        "\n",
        "The public key is (e, n), and the private key is (d, n).\n",
        "\n",
        "To encrypt a message, m, raise it to the power of e and divide by n to get the ciphertext, c.\n",
        "\n",
        "To decrypt the ciphertext, c, raise it to the power of d and divide by n to recover the original message, m."
      ],
      "metadata": {
        "id": "sc7AJupXODM9"
      }
    },
    {
      "cell_type": "markdown",
      "source": [
        "code:"
      ],
      "metadata": {
        "id": "2hHd2_slPIAB"
      }
    },
    {
      "cell_type": "code",
      "source": [
        "import random\n",
        "\n",
        "def gcd(a, b):\n",
        "    while b != 0:\n",
        "        a, b = b, a % b\n",
        "    return a\n",
        "\n",
        "def multiplicative_inverse(e, phi):\n",
        "    d = 0\n",
        "    x1 = 0\n",
        "    x2 = 1\n",
        "    y1 = 1\n",
        "    temp_phi = phi\n",
        "\n",
        "    while e > 0:\n",
        "        temp1 = temp_phi // e\n",
        "        temp2 = temp_phi - temp1 * e\n",
        "        temp_phi = e\n",
        "        e = temp2\n",
        "\n",
        "        x = x2 - temp1 * x1\n",
        "        y = d - temp1 * y1\n",
        "\n",
        "        x2 = x1\n",
        "        x1 = x\n",
        "        d = y1\n",
        "        y1 = y\n",
        "\n",
        "    if temp_phi == 1:\n",
        "        return d + phi\n",
        "\n",
        "def generate_keys(p, q):\n",
        "    n = p * q\n",
        "    phi = (p - 1) * (q - 1)\n",
        "\n",
        "    e = random.randrange(1, phi)\n",
        "    g = gcd(e, phi)\n",
        "    while g != 1:\n",
        "        e = random.randrange(1, phi)\n",
        "        g = gcd(e, phi)\n",
        "\n",
        "    d = multiplicative_inverse(e, phi)\n",
        "\n",
        "    return (e, n), (d, n)\n",
        "\n",
        "def encrypt(plaintext, public_key):\n",
        "    e, n = public_key\n",
        "    ciphertext = [pow(ord(char), e, n) for char in plaintext]\n",
        "    return ciphertext\n",
        "\n",
        "def decrypt(ciphertext, private_key):\n",
        "    d, n = private_key\n",
        "    plaintext = ''.join([chr(pow(char, d, n)) for char in ciphertext])\n",
        "    return plaintext\n",
        "\n",
        "# Example usage\n",
        "p = 61\n",
        "q = 53\n",
        "public_key, private_key = generate_keys(p, q)\n",
        "\n",
        "plaintext = input(\"Enter the plaintext to encrypt: \")\n",
        "ciphertext = encrypt(plaintext, public_key)\n",
        "print(\"Ciphertext:\", ciphertext)\n",
        "\n",
        "decrypted_text = decrypt(ciphertext, private_key)\n",
        "print(\"Decrypted text:\", decrypted_text)\n"
      ],
      "metadata": {
        "id": "e5Fdw0Kc-Wep",
        "outputId": "65f130e3-6b57-4cc5-87dd-1db70b27e494",
        "colab": {
          "base_uri": "https://localhost:8080/"
        }
      },
      "execution_count": 7,
      "outputs": [
        {
          "output_type": "stream",
          "name": "stdout",
          "text": [
            "Enter the plaintext to encrypt: asymmetry\n",
            "Ciphertext: [2845, 1978, 2805, 2088, 2088, 1676, 2694, 1197, 2805]\n",
            "Decrypted text: asymmetry\n"
          ]
        }
      ]
    },
    {
      "cell_type": "markdown",
      "source": [
        "2. **El-Gamal encryption**"
      ],
      "metadata": {
        "id": "WHp6zJhFPYwQ"
      }
    },
    {
      "cell_type": "markdown",
      "source": [
        "**Explanation:**"
      ],
      "metadata": {
        "id": "1_XjC-j9QSAa"
      }
    },
    {
      "cell_type": "markdown",
      "source": [
        "The El-Gamal encryption algorithm is a popular asymmetric encryption method based on the Diffie-Hellman key exchange and modular arithmetic.\n",
        "\n",
        "\n",
        "\n",
        "1. Choose a large prime number (p) and a generator (g), a primitive root modulo p.\n",
        "2. Select a private key (a), a random integer between 1 and p-2.\n",
        "3. Calculate the public key (h) using the formula: h = g^a mod p.\n",
        "4. The public key is (p, g, h), and the private key is (a).\n",
        "\n",
        "Encryption:\n",
        "To encrypt a message (m):\n",
        "1. Choose a random integer (k) between 1 and p-2.\n",
        "2. Compute c1 = g^k mod p and c2 = m x h^k mod p.\n",
        "3. The ciphertext is (c1, c2).\n",
        "\n",
        "Decryption:\n",
        "To decrypt the ciphertext (c1, c2), use the formula: m = c2 x (c1^a)^-1 mod p to obtain the plaintext."
      ],
      "metadata": {
        "id": "m1VgOP_bPrsl"
      }
    },
    {
      "cell_type": "markdown",
      "source": [
        "code:\n"
      ],
      "metadata": {
        "id": "ZZvdK6c1Qflf"
      }
    },
    {
      "cell_type": "code",
      "source": [],
      "metadata": {
        "id": "Boie4zKjQiEU"
      },
      "execution_count": null,
      "outputs": []
    },
    {
      "cell_type": "code",
      "source": [
        "import random\n",
        "\n",
        "def generate_keys(p, g):\n",
        "    a = random.randint(2, p - 2)\n",
        "    h = pow(g, a, p)\n",
        "    return (p, g, h), a\n",
        "\n",
        "def encrypt(plaintext, public_key):\n",
        "    p, g, h = public_key\n",
        "    k = random.randint(2, p - 2)\n",
        "    c1 = pow(g, k, p)\n",
        "    c2 = (pow(h, k, p) * plaintext) % p\n",
        "    return c1, c2\n",
        "\n",
        "def decrypt(ciphertext, private_key, p):\n",
        "    c1, c2 = ciphertext\n",
        "    a = private_key\n",
        "    m = (c2 * pow(c1, p - 1 - a, p)) % p\n",
        "    return m\n",
        "#Example usage\n",
        "p = 23\n",
        "g = 5\n",
        "public_key, private_key = generate_keys(p, g)\n",
        "\n",
        "plaintext = int(input(\"Enter the plaintext to encrypt: \"))\n",
        "ciphertext = encrypt(plaintext, public_key)\n",
        "print(\"Ciphertext:\", ciphertext)\n",
        "\n",
        "decrypted_text = decrypt(ciphertext, private_key, p)\n",
        "print(\"Decrypted text:\", decrypted_text)\n"
      ],
      "metadata": {
        "id": "wCQEBZoX_ifr",
        "outputId": "6117d680-d8b2-4e9b-9927-91e158e1c7ee",
        "colab": {
          "base_uri": "https://localhost:8080/"
        }
      },
      "execution_count": 9,
      "outputs": [
        {
          "output_type": "stream",
          "name": "stdout",
          "text": [
            "Enter the plaintext to encrypt: 39\n",
            "Ciphertext: (3, 8)\n",
            "Decrypted text: 16\n"
          ]
        }
      ]
    },
    {
      "cell_type": "markdown",
      "source": [
        "**Hash functions to compute the hash of a given string**\n",
        "\n",
        "\n"
      ],
      "metadata": {
        "id": "zSJ5coTeQ_aV"
      }
    },
    {
      "cell_type": "markdown",
      "source": [
        "A hash function is a type of math that takes any input size and creates a fixed output size. This output is called the hash value or digest. Hash functions are one-way functions, which means that it is difficult to recreate the original input from the hash value.\n",
        "\n",
        "The SHA-256 algorithm is a member of the SHA-2 family of hash functions created by the National Security Agency (NSA) and published by the National Institute of Standards and Technology (NIST). It takes any input size and produces a 256-bit (32-byte) hash value.\n",
        "\n",
        "The SHA-256 algorithm works by following four steps:\n",
        "\n",
        "1. Preprocessing: First, the input message is padded and its length is added to make sure it is a multiple of 512 bits.\n",
        "\n",
        "2. Initialization: Next, eight 32-bit words are set to specific constant values.\n",
        "\n",
        "3. Compression: The input message is processed in 512-bit blocks. Each block goes through a series of operations, including logical functions, modular additions, and bit shifts. The resulting values are then combined with the current hash value.\n",
        "\n",
        "4. Finalization: After all the blocks have been processed, the final hash value is computed."
      ],
      "metadata": {
        "id": "nv2Mph5YBP-E"
      }
    },
    {
      "cell_type": "markdown",
      "source": [
        "code:\n"
      ],
      "metadata": {
        "id": "M0aeo2tORmLm"
      }
    },
    {
      "cell_type": "code",
      "source": [
        "import hashlib\n",
        "\n",
        "def sha256_hash(input_str):\n",
        "\n",
        "    sha256 = hashlib.sha256()\n",
        "\n",
        "\n",
        "    sha256.update(input_str.encode('utf-8'))\n",
        "\n",
        "\n",
        "    hash_hex = sha256.hexdigest()\n",
        "\n",
        "    return hash_hex\n",
        "\n",
        "\n",
        "input_string = input(\"Enter a string: \")\n",
        "\n",
        "\n",
        "hash_value = sha256_hash(input_string)\n",
        "\n",
        "\n",
        "print(\"Input String:\", input_string)\n",
        "print(\"SHA-256 Hash:\", hash_value)\n"
      ],
      "metadata": {
        "id": "jMjE13aGBTmV",
        "outputId": "2be9a193-9259-4413-ca74-8ec70001bb1a",
        "colab": {
          "base_uri": "https://localhost:8080/"
        }
      },
      "execution_count": 10,
      "outputs": [
        {
          "output_type": "stream",
          "name": "stdout",
          "text": [
            "Enter a string: hash\n",
            "Input String: hash\n",
            "SHA-256 Hash: d04b98f48e8f8bcc15c6ae5ac050801cd6dcfd428fb5f9e65c4e16e7807340fa\n"
          ]
        }
      ]
    }
  ]
}